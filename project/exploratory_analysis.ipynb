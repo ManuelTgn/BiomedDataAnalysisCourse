{
 "cells": [
  {
   "cell_type": "markdown",
   "metadata": {},
   "source": [
    "# Exploratory analysis of dataset"
   ]
  },
  {
   "cell_type": "code",
   "execution_count": null,
   "metadata": {},
   "outputs": [],
   "source": [
    "from typing import Any, List\n",
    "from datetime import datetime\n",
    "\n",
    "import matplotlib.pyplot as plt\n",
    "import seaborn as sns\n",
    "import pandas as pd\n",
    "import numpy as np\n",
    "\n",
    "import sys\n",
    "import os"
   ]
  },
  {
   "cell_type": "markdown",
   "metadata": {},
   "source": [
    "### Define data path"
   ]
  },
  {
   "cell_type": "code",
   "execution_count": null,
   "metadata": {},
   "outputs": [],
   "source": [
    "data_path = \"/Users/manuel/Desktop/BiomedDataAnalysisCourse/project/data/\"\n",
    "ps_data_path = os.path.join(data_path, \"database_base.csv\")\n",
    "rx_data_path = os.path.join(data_path, \"database_RX_torace.csv\")"
   ]
  },
  {
   "cell_type": "markdown",
   "metadata": {},
   "source": [
    "### Define functions used throughout the analysis"
   ]
  },
  {
   "cell_type": "code",
   "execution_count": null,
   "metadata": {},
   "outputs": [],
   "source": [
    "def compute_nan_pct(data: List) -> float:\n",
    "    assert isinstance(data, list)\n",
    "    assert bool(data)\n",
    "    nan_num = [1 for d in data if str(d) == \"nan\"]\n",
    "    nan_pct = sum(nan_num) / len(data)\n",
    "    return nan_pct"
   ]
  },
  {
   "cell_type": "code",
   "execution_count": null,
   "metadata": {},
   "outputs": [],
   "source": [
    "def nan_to_zero(value: str) -> int:\n",
    "    if str(value) == \"nan\":\n",
    "        return 0\n",
    "    value = int(value)\n",
    "    assert value == 1\n",
    "    return value"
   ]
  },
  {
   "cell_type": "code",
   "execution_count": null,
   "metadata": {},
   "outputs": [],
   "source": [
    "def compute_date_diff(start: str, stop: str) -> int:\n",
    "    assert isinstance(start, str)\n",
    "    assert isinstance(stop, str)\n",
    "    start = datetime.strptime(start, \"%d/%m/%Y\")\n",
    "    stop = datetime.strptime(stop, \"%d/%m/%Y\")\n",
    "    if start > stop:\n",
    "        print(start, stop)\n",
    "    diff = stop - start\n",
    "    return diff.days"
   ]
  },
  {
   "cell_type": "code",
   "execution_count": null,
   "metadata": {},
   "outputs": [],
   "source": [
    "def compute_death_response(death_date: str) -> int:\n",
    "    assert isinstance(death_date, str)\n",
    "    if str(death_date) == \"nan\":\n",
    "        return 0\n",
    "    return 1"
   ]
  },
  {
   "cell_type": "code",
   "execution_count": null,
   "metadata": {},
   "outputs": [],
   "source": [
    "def make_barplot(df: pd.DataFrame, column: str, label: str) -> None:\n",
    "    assert isinstance(df, pd.DataFrame) \n",
    "    assert isinstance(column, str)\n",
    "    assert isinstance(label, str)\n",
    "    genders = df.GENDER.tolist()\n",
    "    data = {f\"{label}\":0, f\"Not {label}\":0}\n",
    "    for v in df[column].tolist():\n",
    "        if v == 1:\n",
    "            data[f\"{label}\"] += 1\n",
    "        else:\n",
    "            data[f\"Not {label}\"] += 1\n",
    "    labels = list(data.keys())\n",
    "    values = list(data.values())\n",
    "    width = .4\n",
    "    colors = [\"#104B8E\", \"#DC661A\"]\n",
    "    f, (ax1, ax2) = plt.subplots(1,2,figsize=(20,10))\n",
    "    ax1.bar(labels, values, color=colors[0], width=width)\n",
    "    ax1.set_xlabel(\"Outcome\", size=16)\n",
    "    ax1.set_ylabel(\"Number of patients\", size=16)\n",
    "    ax1.tick_params(labelsize=14)\n",
    "    ax1.set_title(f\"{label}\", size=18)\n",
    "    data = {f\"{label}\":[0,0], f\"Not {label}\":[0,0]}\n",
    "    for i,v in enumerate(df[column].tolist()):\n",
    "        if v == 1:\n",
    "            if genders[i] == \"M\":\n",
    "                data[f\"{label}\"][0] += 1\n",
    "            else:  # genders[i] == \"F\"\n",
    "                data[f\"{label}\"][1] += 1\n",
    "        else:\n",
    "            if genders[i] == \"M\":\n",
    "                data[f\"Not {label}\"][0] += 1\n",
    "            else:  # genders[i] == \"F\"\n",
    "                data[f\"Not {label}\"][1] += 1\n",
    "    x = np.arange(2)\n",
    "    ax2.bar(x - width / 2, [data[f\"{label}\"][0], data[f\"Not {label}\"][0]], width, label=\"Males\", color=colors[0])\n",
    "    ax2.bar(x + width / 2, [data[f\"{label}\"][1], data[f\"Not {label}\"][1]], width, label=\"Females\", color=colors[1])\n",
    "    ax2.set_xlabel(\"Outcome\", size=16)\n",
    "    ax2.set_ylabel(\"Number of patients\", size=16)\n",
    "    ax2.tick_params(labelsize=14)\n",
    "    ax2.set_xticks(x)\n",
    "    ax2.set_xticklabels(list(data.keys()))\n",
    "    ax2.legend([\"Male\", \"Female\"], prop={\"size\": 18})\n",
    "    ax2.set_title(f\"{label} by gender\", size=18)\n",
    "    plt.show()"
   ]
  },
  {
   "cell_type": "markdown",
   "metadata": {},
   "source": [
    "### Load and explore data"
   ]
  },
  {
   "cell_type": "markdown",
   "metadata": {},
   "source": [
    "#### ER Unit data"
   ]
  },
  {
   "cell_type": "code",
   "execution_count": null,
   "metadata": {},
   "outputs": [],
   "source": [
    "ps_df = pd.read_csv(ps_data_path, sep=\";\")\n",
    "# store column value description line\n",
    "vars_description_ps = ps_df.iloc[1,:]\n",
    "ps_df.head()"
   ]
  },
  {
   "cell_type": "code",
   "execution_count": null,
   "metadata": {},
   "outputs": [],
   "source": [
    "# remove lines repeating the header and describing vars\n",
    "ps_df.drop(ps_df.head(3).index, axis=0, inplace=True)\n",
    "ps_df.reset_index(drop=True, inplace=True)\n",
    "# drop columns with header \"####\" (separators)\n",
    "drop_cols = [col for col in ps_df.columns.tolist() if \"###\" in col]\n",
    "ps_df.drop(drop_cols, axis=1, inplace=True)\n",
    "ps_df.head()"
   ]
  },
  {
   "cell_type": "code",
   "execution_count": null,
   "metadata": {},
   "outputs": [],
   "source": [
    "# drop columns\n",
    "keep_cols = [\n",
    "    \"CODE\",\n",
    "    \"GENDER\",\n",
    "    \"BIRTHDAY\",\n",
    "    \"DEAD_DATE\",\n",
    "    \"ID\",\n",
    "    \"START\",\n",
    "    \"STOP\",\n",
    "    \"FIELDSET_PS-O2\",\n",
    "    \"FIELDSET_PS-FR\",\n",
    "    \"FIELDSET_PS-FC\",\n",
    "    \"FIELDSET_PS-SYSTOLIC\",\n",
    "    \"FIELDSET_PS-DIASTOLIC\",\n",
    "    \"FIELDSET_PS-TEMPERATURE\",\n",
    "    \"FIELDSET_PS-DYSPNEA\",\n",
    "    \"FIELDSET_PS-FEVER\",\n",
    "    \"FIELDSET_PS-COUGH\",\n",
    "    \"FIELDSET_PS-GS\",\n",
    "    \"FIELDSET_PS-ASTHENIA\",\n",
    "    \"FIELDSET_PS-DATE\",\n",
    "    \"FIELDSET_PS-ILLNESSES_APR\",\n",
    "    \"FIELDSET_PS-ILLNESSES_1\",\n",
    "    \"FIELDSET_PS-ILLNESSES_2\",\n",
    "    \"FIELDSET_PS-ILLNESSES_3\",\n",
    "    \"FIELDSET_PS-ILLNESSES_4\",\n",
    "    \"FIELDSET_PS-ILLNESSES_5\",\n",
    "    \"FIELDSET_PS-ILLNESSES_6\",\n",
    "    \"FIELDSET_PS-ILLNESSES_7\",\n",
    "    \"FIELDSET_PS-ILLNESSES_8\",\n",
    "    \"FIELDSET_PS-ILLNESSES_9\",\n",
    "    \"FIELDSET_PS-ILLNESSES_10\",\n",
    "    \"FIELDSET_PS-ILLNESSES_11\",\n",
    "    \"FIELDSET_PS-ILLNESSES_12\",\n",
    "    \"FIELDSET_PS-ILLNESSES_13\",\n",
    "    \"FIELDSET_PS-BLOOD_EGA_PH\",\n",
    "    \"FIELDSET_PS-BLOOD_EGA_PO2\",\n",
    "    \"FIELDSET_PS-BLOOD_EGA_PCO2\",\n",
    "    \"FIELDSET_PS-BLOOD_EGA_FI02\",\n",
    "    \"FIELDSET_PS-BLOOD_EGA_PF\",\n",
    "    \"FIELDSET_PS-BLOOD_EGA_LATTATI\",\n",
    "    \"FIELDSET_PS-BLOOD_COUNT_HB\",\n",
    "    \"FIELDSET_PS-BLOOD_COUNT_HT\",\n",
    "    \"FIELDSET_PS-BLOOD_COUNT_MCV\",\n",
    "    \"FIELDSET_PS-BLOOD_COUNT_RDW\",\n",
    "    \"FIELDSET_PS-BLOOD_COUNT_PLT\",\n",
    "    \"FIELDSET_PS-BLOOD_COUNT_LEUCOCITI\",\n",
    "    \"FIELDSET_PS-BLOOD_COUNT_NEUTROFILI\",\n",
    "    \"FIELDSET_PS-BLOOD_COUNT_LINFOCITI\",\n",
    "    \"FIELDSET_PS-BLOOD_PCR\",\n",
    "    \"FIELDSET_PS-BLOOD_CREATININA\",\n",
    "    \"FIELDSET_PS-BLOOD_EGFR\",\n",
    "    \"FIELDSET_PS-BLOOD_NA\",\n",
    "    \"FIELDSET_PS-BLOOD_K\",\n",
    "    \"FIELDSET_PS-BLOOD_AST\",\n",
    "    \"FIELDSET_PS-BLOOD_ALT\",\n",
    "    \"FIELDSET_PS-BLOOD_LDH\",\n",
    "    \"FIELDSET_PS-BLOOD_CK\",\n",
    "    \"FIELDSET_PS-BLOOD_ALBUMINA\",\n",
    "    \"FIELDSET_PS-BLOOD_BILIRUBINA\",\n",
    "    \"FIELDSET_PS-BLOOD_FIBRINOGENO\",\n",
    "    \"FIELDSET_PS-BLOOD_FERRITINA\",\n",
    "    \"FIELDSET_PS-BLOOD_LIPASI\",\n",
    "    \"FIELDSET_PS-BLOOD_PROTEINE\",\n",
    "    \"FIELDSET_PS-BLOOD_UREA\",\n",
    "    \"FIELDSET_PS-BLOOD_DDIMERO\",\n",
    "    \"FIELDSET_PS-BLOOD_PT\",\n",
    "    \"FIELDSET_PS-BLOOD_APTT\",\n",
    "    \"FIELDSET_PS-SCORE_GCS\",\n",
    "    \"FIELDSET_PS-DIMISSION\",\n",
    "    \"FIELDSET_PHYSIOLOGICAL-HOME\",\n",
    "    \"FIELDSET_PHYSIOLOGICAL-SMOKE\",\n",
    "    \"FIELDSET_PHYSIOLOGICAL-ALCOHOL\",\n",
    "    \"FIELDSET_CLINICAL-BARTHEL\",\n",
    "    \"FIELDSET_VENTILATION-EXECUTED\",\n",
    "    \"FIELDSET_EVOLUTION-LEGIONELLA\",\n",
    "    \"FIELDSET_EVOLUTION-PNEUMOCOCCO\",\n",
    "    \"FIELDSET_EVOLUTION-ARDS\",\n",
    "    \"FIELDSET_EVOLUTION-PNEUMONIA\",\n",
    "    \"FIELDSET_EVOLUTION-CARDIAC\",\n",
    "    \"FIELDSET_EVOLUTION-THROMBOTIC\",\n",
    "    \"FIELDSET_EVOLUTION-HEMORRAGICALS\",\n",
    "    \"FIELDSET_EVOLUTION-TRANSFUSION_BLOOD\",\n",
    "    \"FIELDSET_EVOLUTION-TRANSFUSION_PLASMA\",\n",
    "    \"FIELDSET_EVOLUTION-TRANSFUSION_PLATES\",\n",
    "    \"FIELDSET_EVOLUTION-RENALS\",\n",
    "    \"FIELDSET_EVOLUTION-HEPATICS\",\n",
    "    \"FIELDSET_EVOLUTION-INFECTIOUS\",\n",
    "    \"FIELDSET_EVOLUTION-NEUROLOGICAL\",\n",
    "    \"FIELDSET_EVOLUTION-DERMATOLOGY\",\n",
    "    \"FIELDSET_EVOLUTION-O2\",\n",
    "]\n",
    "ps_df_filter = ps_df[keep_cols]\n",
    "ps_df_filter.head()"
   ]
  },
  {
   "cell_type": "code",
   "execution_count": null,
   "metadata": {},
   "outputs": [],
   "source": [
    "# check NA values pct on columns\n",
    "check_cols = [\n",
    "    \"FIELDSET_PS-FR\",\n",
    "    \"FIELDSET_PS-FC\",\n",
    "    \"FIELDSET_PS-SYSTOLIC\",\n",
    "    \"FIELDSET_PS-DIASTOLIC\",\n",
    "    \"FIELDSET_PS-TEMPERATURE\",\n",
    "    \"FIELDSET_PS-BLOOD_DDIMERO\",\n",
    "    \"FIELDSET_PS-SCORE_GCS\",\n",
    "    \"FIELDSET_EVOLUTION-LEGIONELLA\",\n",
    "    \"FIELDSET_EVOLUTION-PNEUMOCOCCO\"\n",
    "]\n",
    "drop_cols = []\n",
    "for col in check_cols:\n",
    "    nan_pct = compute_nan_pct(ps_df_filter[col].tolist())\n",
    "    print(f\"NaN percentage in column {col}: {nan_pct}\")\n",
    "    if nan_pct > 0.5:\n",
    "        drop_cols.append(col)\n",
    "# FIELDSET_PS-FR: 0.56\n",
    "# FIELDSET_PS-BLOOD_DDIMERO: 0.95\n",
    "ps_df_filter.drop(drop_cols, axis=1, inplace=True)\n",
    "ps_df_filter.head()"
   ]
  },
  {
   "cell_type": "code",
   "execution_count": null,
   "metadata": {},
   "outputs": [],
   "source": [
    "# set NaN values to 0\n",
    "check_cols = [\n",
    "    \"FIELDSET_PS-DYSPNEA\",\n",
    "    \"FIELDSET_PS-FEVER\",\n",
    "    \"FIELDSET_PS-COUGH\",\n",
    "    \"FIELDSET_PS-GS\",\n",
    "    \"FIELDSET_PS-ASTHENIA\",\n",
    "    \"FIELDSET_PS-ILLNESSES_1\",\n",
    "    \"FIELDSET_PS-ILLNESSES_2\",\n",
    "    \"FIELDSET_PS-ILLNESSES_3\",\n",
    "    \"FIELDSET_PS-ILLNESSES_4\",\n",
    "    \"FIELDSET_PS-ILLNESSES_5\",\n",
    "    \"FIELDSET_PS-ILLNESSES_6\",\n",
    "    \"FIELDSET_PS-ILLNESSES_7\",\n",
    "    \"FIELDSET_PS-ILLNESSES_8\",\n",
    "    \"FIELDSET_PS-ILLNESSES_9\",\n",
    "    \"FIELDSET_PS-ILLNESSES_10\",\n",
    "    \"FIELDSET_PS-ILLNESSES_11\",\n",
    "    \"FIELDSET_PS-ILLNESSES_12\",\n",
    "    \"FIELDSET_PS-ILLNESSES_13\",\n",
    "    \"FIELDSET_EVOLUTION-ARDS\",\n",
    "    \"FIELDSET_EVOLUTION-PNEUMONIA\",\n",
    "    \"FIELDSET_EVOLUTION-CARDIAC\",\n",
    "    \"FIELDSET_EVOLUTION-THROMBOTIC\",\n",
    "    \"FIELDSET_EVOLUTION-HEMORRAGICALS\",\n",
    "    \"FIELDSET_EVOLUTION-TRANSFUSION_BLOOD\",\n",
    "    \"FIELDSET_EVOLUTION-TRANSFUSION_PLASMA\",\n",
    "    \"FIELDSET_EVOLUTION-TRANSFUSION_PLATES\",\n",
    "    \"FIELDSET_EVOLUTION-RENALS\",\n",
    "    \"FIELDSET_EVOLUTION-HEPATICS\",\n",
    "    \"FIELDSET_EVOLUTION-INFECTIOUS\",\n",
    "    \"FIELDSET_EVOLUTION-NEUROLOGICAL\",\n",
    "    \"FIELDSET_EVOLUTION-DERMATOLOGY\"\n",
    "]\n",
    "df_cols = np.array(ps_df_filter.columns.tolist())\n",
    "for col in check_cols:\n",
    "    idx = int(np.where(df_cols == col)[0])\n",
    "    ps_df_filter[col] = ps_df_filter.apply(lambda x : nan_to_zero(x[idx]), axis=1)\n",
    "ps_df_filter.head()"
   ]
  },
  {
   "cell_type": "code",
   "execution_count": null,
   "metadata": {},
   "outputs": [],
   "source": [
    "# remove columns with NaN values on START or STOP columns\n",
    "starts = ps_df_filter.START.tolist()\n",
    "stops = ps_df_filter.STOP.tolist()\n",
    "assert len(starts) == len(stops)\n",
    "drop_idxs = [i for i in range(len(starts)) if str(starts[i]) == \"nan\" or str(stops[i]) == \"nan\"]\n",
    "ps_df_filter.drop(drop_idxs, axis=0, inplace=True)\n",
    "\n",
    "# compute disease duration\n",
    "ps_df_filter[\"COVID_infection_duration\"] = ps_df_filter.apply(lambda x : compute_date_diff(x[5], x[6]), axis=1)\n",
    "ps_df_filter.head()"
   ]
  },
  {
   "cell_type": "code",
   "execution_count": null,
   "metadata": {},
   "outputs": [],
   "source": [
    "# define the response column (DEAD_DATE)\n",
    "ps_df_filter[\"DEATH\"] = ps_df_filter.apply(lambda x : compute_death_response(str(x[3])), axis=1)\n",
    "ps_df_filter.head()"
   ]
  },
  {
   "cell_type": "code",
   "execution_count": null,
   "metadata": {},
   "outputs": [],
   "source": [
    "ps_df_filter.shape  # 787 patients (89 variables)\n",
    "ps_df_filter.describe()  # ID is the only variable with 788 unique values "
   ]
  },
  {
   "cell_type": "markdown",
   "metadata": {},
   "source": [
    "#### RX data"
   ]
  },
  {
   "cell_type": "code",
   "execution_count": null,
   "metadata": {},
   "outputs": [],
   "source": [
    "rx_df = pd.read_csv(rx_data_path, sep=\";\")\n",
    "# store column value description\n",
    "vars_description_rx = rx_df.iloc[1,:]\n",
    "rx_df.head()"
   ]
  },
  {
   "cell_type": "code",
   "execution_count": null,
   "metadata": {},
   "outputs": [],
   "source": [
    "# remove lines repeating header names\n",
    "rx_df.drop(rx_df.head(3).index, axis=0, inplace=True)\n",
    "# remove columns named \"####\" (separators)\n",
    "drop_cols = [col for col in rx_df.columns.tolist() if \"###\" in col]\n",
    "rx_df.drop(drop_cols, axis=1, inplace=True)\n",
    "rx_df.head()"
   ]
  },
  {
   "cell_type": "code",
   "execution_count": null,
   "metadata": {},
   "outputs": [],
   "source": [
    "# drop columns\n",
    "keep_cols = [\n",
    "    \"CODE\", \"ID\", \"START\", \"FIELDSET_RX-0-RX_1\", \"FIELDSET_RX-0-RX_2\", \"FIELDSET_RX-0-RX_3\", \"FIELDSET_RX-0-RX_4\"\n",
    "]\n",
    "rx_df_filter = rx_df[keep_cols]\n",
    "rx_df_filter.head()"
   ]
  },
  {
   "cell_type": "code",
   "execution_count": null,
   "metadata": {},
   "outputs": [],
   "source": [
    "rx_df_filter.shape  # 942 patients (7 variables)\n",
    "rx_df.describe()  # again ID is the only variable with 942 unique values"
   ]
  },
  {
   "cell_type": "markdown",
   "metadata": {},
   "source": [
    "#### Merge ER and RX datasets"
   ]
  },
  {
   "cell_type": "code",
   "execution_count": null,
   "metadata": {},
   "outputs": [],
   "source": [
    "# check how many ER dataset's visits are in the RX dataset\n",
    "visit_ps = set(ps_df_filter.ID.tolist())\n",
    "visit_rx = set(rx_df_filter.ID.tolist())\n",
    "len(visit_ps.intersection(visit_rx))  # 769 --> the additional 18 visits should be removed"
   ]
  },
  {
   "cell_type": "code",
   "execution_count": null,
   "metadata": {},
   "outputs": [],
   "source": [
    "ps_df_filter = ps_df_filter[ps_df_filter.ID.isin(visit_ps.intersection(visit_rx))]\n",
    "rx_df_filter = rx_df_filter[rx_df_filter.ID.isin(visit_ps.intersection(visit_rx))]\n",
    "ps_rx_df = ps_df_filter.merge(rx_df_filter, on=\"ID\")\n",
    "ps_rx_df.head()"
   ]
  },
  {
   "cell_type": "code",
   "execution_count": null,
   "metadata": {},
   "outputs": [],
   "source": [
    "ps_rx_df.shape  # merged dataset --> 769 ER accesses and 95 total variables\n",
    "ps_rx_df.describe()"
   ]
  },
  {
   "cell_type": "code",
   "execution_count": null,
   "metadata": {},
   "outputs": [],
   "source": [
    "# search and remove repeated columns\n",
    "drop_cols = [col for col in ps_rx_df.columns.tolist() if \"_x\" in col or \"_y\" in col]\n",
    "keep_cols = [col for col in drop_cols if \"_x\" in col]\n",
    "for col in keep_cols:\n",
    "    ps_rx_df[col.split(\"_\")[0]] = ps_rx_df[col]\n",
    "ps_rx_df.drop(drop_cols, axis=1, inplace=True)\n",
    "ps_rx_df.shape  # number of variables decreased to 93"
   ]
  },
  {
   "cell_type": "code",
   "execution_count": null,
   "metadata": {},
   "outputs": [],
   "source": [
    "# display the final dataset\n",
    "ps_rx_df.head()"
   ]
  },
  {
   "cell_type": "markdown",
   "metadata": {},
   "source": [
    "#### Plotting some stats on our data"
   ]
  },
  {
   "cell_type": "code",
   "execution_count": null,
   "metadata": {},
   "outputs": [],
   "source": [
    "# explore the outcomes\n",
    "data = {\n",
    "    \"Dead\":ps_rx_df[ps_rx_df.DEATH == 1].shape[0], \n",
    "    \"Alive\":ps_rx_df[ps_rx_df.DEATH == 0].shape[0]\n",
    "}\n",
    "outcome = list(data.keys())\n",
    "values = list(data.values())\n",
    "f,(ax1,ax2) = plt.subplots(1,2,figsize = (20, 10))\n",
    "ax1.bar(outcome, values, color = \"#104B8E\", width = 0.4)\n",
    "ax1.set_xlabel(\"Outcome\", size=16)\n",
    "ax1.set_ylabel(\"Number of patients\", size=16)\n",
    "ax1.tick_params(labelsize=14)\n",
    "ax1.set_title(\"ER visits outcome\", size=18)\n",
    "colors = [\"#104B8E\", \"#DC661A\"]\n",
    "data = {\n",
    "    \"Dead\":[\n",
    "        ps_rx_df[ (ps_rx_df.DEATH == 1) & (ps_rx_df.GENDER == \"M\") ].shape[0],\n",
    "        ps_rx_df[ (ps_rx_df.DEATH == 1) & (ps_rx_df.GENDER == \"F\") ].shape[0]\n",
    "    ], \n",
    "    \"Alive\":[\n",
    "        ps_rx_df[ (ps_rx_df.DEATH == 0) & (ps_rx_df.GENDER == \"M\") ].shape[0],\n",
    "        ps_rx_df[ (ps_rx_df.DEATH == 0) & (ps_rx_df.GENDER == \"F\") ].shape[0]\n",
    "    ]\n",
    "}\n",
    "x = np.arange(2)\n",
    "width = 0.2\n",
    "ax2.bar(x - width / 2, [data[\"Dead\"][0], data[\"Alive\"][0]], width, label=\"Males\", color=colors[0])\n",
    "ax2.bar(x + width / 2, [data[\"Dead\"][1], data[\"Alive\"][1]], width, label=\"Females\", color=colors[1])\n",
    "ax2.set_xlabel(\"Outcome\", size=16)\n",
    "ax2.set_ylabel(\"Number of patients\", size=16)\n",
    "ax2.tick_params(labelsize=14)\n",
    "ax2.set_xticks(x)\n",
    "ax2.set_xticklabels(list(data.keys()))\n",
    "ax2.legend([\"Male\", \"Female\"], prop={\"size\": 18})\n",
    "ax2.set_title(\"ER visits outcome by gender\", size=18)\n",
    "plt.show()"
   ]
  },
  {
   "cell_type": "code",
   "execution_count": null,
   "metadata": {},
   "outputs": [],
   "source": [
    "data = {\n",
    "    \"< 5 days\":0,\n",
    "    \"5 - 15 days\":0,\n",
    "    \"16 - 30 days\":0,\n",
    "    \"> 30 days\":0\n",
    "}\n",
    "for duration in ps_rx_df.COVID_infection_duration.tolist():\n",
    "    if int(duration) < 5:\n",
    "        data[\"< 5 days\"] += 1\n",
    "    elif int(duration) >= 5 and int(duration) < 16:\n",
    "        data[\"5 - 15 days\"] += 1\n",
    "    elif int(duration) >= 16 and int(duration) < 31:\n",
    "        data[\"16 - 30 days\"] += 1\n",
    "    else:  # > 30 days\n",
    "        data[\"> 30 days\"] += 1\n",
    "duration = list(data.keys())\n",
    "values = list(data.values())\n",
    "f, (ax1, ax2) = plt.subplots(1,2,figsize=(20,10))\n",
    "ax1.bar(duration, values, color=\"#104B8E\", width=.4)\n",
    "ax1.set_xlabel(\"COVID duration\", size=16)\n",
    "ax1.set_ylabel(\"Number of patients\", size=16)\n",
    "ax1.tick_params(labelsize=14)\n",
    "ax1.set_title(\"COVID infection duration\", size=18)\n",
    "colors = [\"#104B8E\", \"#DC661A\"]\n",
    "data = {\n",
    "    \"< 5 days\":[0,0],\n",
    "    \"5 - 15 days\":[0,0],\n",
    "    \"16 - 30 days\":[0,0],\n",
    "    \"> 30 days\":[0,0]\n",
    "}\n",
    "genders = ps_rx_df.GENDER.tolist()\n",
    "for i,duration in enumerate(ps_rx_df.COVID_infection_duration.tolist()):\n",
    "    if int(duration) < 5:\n",
    "        if genders[i] == \"M\":\n",
    "            data[\"< 5 days\"][0] += 1\n",
    "        else:  # genders[i] == \"F\"\n",
    "            data[\"< 5 days\"][1] += 1\n",
    "    elif int(duration) >= 5 and int(duration) < 16:\n",
    "        if genders[i] == \"M\":\n",
    "            data[\"5 - 15 days\"][0] += 1\n",
    "        else:  # genders[i] == \"F\"\n",
    "            data[\"5 - 15 days\"][1] += 1\n",
    "    elif int(duration) >= 16 and int(duration) < 31:\n",
    "        if genders[i] == \"M\":\n",
    "            data[\"16 - 30 days\"][0] += 1\n",
    "        else:  # genders[i] == \"F\"\n",
    "            data[\"16 - 30 days\"][1] += 1\n",
    "    else:  # > 30 days\n",
    "        if genders[i] == \"M\":\n",
    "            data[\"> 30 days\"][0] += 1\n",
    "        else:  # genders[i] == \"F\"\n",
    "            data[\"> 30 days\"][1] += 1\n",
    "x = np.arange(len(data.keys()))\n",
    "width = 0.3\n",
    "males_data = [data[d][0] for d in data.keys()]\n",
    "females_data = [data[d][1] for d in data.keys()]\n",
    "ax2.bar(x - width / 2, males_data, width, label=\"Males\", color=colors[0])\n",
    "ax2.bar(x + width / 2, females_data, width, label=\"Females\", color=colors[1])\n",
    "ax2.set_xlabel(\"COVID duration\", size=16)\n",
    "ax2.set_ylabel(\"Number of patients\", size=16)\n",
    "ax2.tick_params(labelsize=14)\n",
    "ax2.set_xticks(x)\n",
    "ax2.set_xticklabels(list(data.keys()))\n",
    "ax2.legend([\"Male\", \"Female\"], prop={\"size\": 18})\n",
    "ax2.set_title(\"COVID infection duration by gender\", size=18)\n",
    "plt.show()"
   ]
  },
  {
   "cell_type": "markdown",
   "metadata": {},
   "source": [
    "### Store the processed and merged data"
   ]
  },
  {
   "cell_type": "code",
   "execution_count": null,
   "metadata": {},
   "outputs": [],
   "source": [
    "ps_rx_df.to_csv(\n",
    "    os.path.join(data_path, \"merged_data_processed.csv\"), \n",
    "    index=False\n",
    ")"
   ]
  },
  {
   "cell_type": "code",
   "execution_count": null,
   "metadata": {},
   "outputs": [],
   "source": []
  }
 ],
 "metadata": {
  "kernelspec": {
   "display_name": "Python 3",
   "language": "python",
   "name": "python3"
  },
  "language_info": {
   "codemirror_mode": {
    "name": "ipython",
    "version": 3
   },
   "file_extension": ".py",
   "mimetype": "text/x-python",
   "name": "python",
   "nbconvert_exporter": "python",
   "pygments_lexer": "ipython3",
   "version": "3.7.3"
  }
 },
 "nbformat": 4,
 "nbformat_minor": 2
}
