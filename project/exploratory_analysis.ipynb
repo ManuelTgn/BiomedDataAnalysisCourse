{
 "cells": [
  {
   "cell_type": "markdown",
   "metadata": {},
   "source": [
    "# Exploratory analysis of dataset"
   ]
  },
  {
   "cell_type": "code",
   "execution_count": null,
   "metadata": {},
   "outputs": [],
   "source": [
    "import matplotlib.pyplot as plt\n",
    "import seaborn as sns\n",
    "import pandas as pd\n",
    "import numpy as np\n",
    "\n",
    "import sys\n",
    "import os"
   ]
  },
  {
   "cell_type": "markdown",
   "metadata": {},
   "source": [
    "### Define data path"
   ]
  },
  {
   "cell_type": "code",
   "execution_count": null,
   "metadata": {},
   "outputs": [],
   "source": [
    "data_path = \"/Users/manuel/Desktop/BiomedDataAnalysisCourse/datasets/\"\n",
    "ps_data_path = os.path.join(data_path, \"database_base.csv\")\n",
    "rx_data_path = os.path.join(data_path, \"database_RX_torace.csv\")"
   ]
  },
  {
   "cell_type": "markdown",
   "metadata": {},
   "source": [
    "### Load and explore data"
   ]
  },
  {
   "cell_type": "markdown",
   "metadata": {},
   "source": [
    "#### ER Unit data"
   ]
  },
  {
   "cell_type": "code",
   "execution_count": null,
   "metadata": {},
   "outputs": [],
   "source": [
    "ps_df = pd.read_csv(ps_data_path, sep=\";\")\n",
    "# store column value description line\n",
    "vars_description_ps = ps_df.iloc[1,:]\n",
    "ps_df.head()"
   ]
  },
  {
   "cell_type": "code",
   "execution_count": null,
   "metadata": {},
   "outputs": [],
   "source": [
    "# remove lines repeating the header and describing vars\n",
    "ps_df.drop(ps_df.head(3).index, axis=0, inplace=True)\n",
    "ps_df.reset_index(drop=True, inplace=True)\n",
    "# drop columns with header \"####\" (separators)\n",
    "drop_cols = [col for col in ps_df.columns.tolist() if \"###\" in col]\n",
    "ps_df.drop(drop_cols, axis=1, inplace=True)\n",
    "ps_df.head()"
   ]
  },
  {
   "cell_type": "code",
   "execution_count": null,
   "metadata": {},
   "outputs": [],
   "source": [
    "ps_df.shape  # 788 patients (660 variables)\n",
    "ps_df.describe()  # ID is the only variable with 788 unique values "
   ]
  },
  {
   "cell_type": "markdown",
   "metadata": {},
   "source": [
    "#### RX data"
   ]
  },
  {
   "cell_type": "code",
   "execution_count": null,
   "metadata": {},
   "outputs": [],
   "source": [
    "rx_df = pd.read_csv(rx_data_path, sep=\";\")\n",
    "# store column value description\n",
    "vars_description_rx = rx_df.iloc[1,:]\n",
    "rx_df.head()"
   ]
  },
  {
   "cell_type": "code",
   "execution_count": null,
   "metadata": {},
   "outputs": [],
   "source": [
    "# remove lines repeating header names\n",
    "rx_df.drop(rx_df.head(3).index, axis=0, inplace=True)\n",
    "# remove columns named \"####\" (separators)\n",
    "drop_cols = [col for col in rx_df.columns.tolist() if \"###\" in col]\n",
    "rx_df.drop(drop_cols, axis=1, inplace=True)\n",
    "rx_df.head()"
   ]
  },
  {
   "cell_type": "code",
   "execution_count": null,
   "metadata": {},
   "outputs": [],
   "source": [
    "rx_df.shape  # 942 patients (59 variables)\n",
    "rx_df.describe()  # again ID is the only variable with 942 unique values"
   ]
  },
  {
   "cell_type": "markdown",
   "metadata": {},
   "source": [
    "#### Merge ER and RX datasets"
   ]
  },
  {
   "cell_type": "code",
   "execution_count": null,
   "metadata": {},
   "outputs": [],
   "source": [
    "# check how many ER dataset's patients are in the RX dataset\n",
    "visit_ps = set(ps_df.ID.tolist())\n",
    "visit_rx = set(rx_df.ID.tolist())\n",
    "len(visit_ps.intersection(visit_rx))  # 770 --> the additional 18 patients should be removed"
   ]
  },
  {
   "cell_type": "code",
   "execution_count": null,
   "metadata": {},
   "outputs": [],
   "source": [
    "ps_df = ps_df[ps_df.ID.isin(visit_ps.intersection(visit_rx))]\n",
    "rx_df = rx_df[rx_df.ID.isin(visit_ps.intersection(visit_rx))]\n",
    "ps_rx_df = ps_df.merge(rx_df, on=\"ID\")\n",
    "ps_rx_df.head()"
   ]
  },
  {
   "cell_type": "code",
   "execution_count": null,
   "metadata": {},
   "outputs": [],
   "source": [
    "ps_rx_df.shape  # merged dataset --> 770 ER accesses and 718 total variables\n",
    "ps_rx_df.describe()"
   ]
  },
  {
   "cell_type": "code",
   "execution_count": null,
   "metadata": {},
   "outputs": [],
   "source": [
    "# search and remove repeated columns\n",
    "drop_cols = [col for col in ps_rx_df.columns.tolist() if \"_x\" in col or \"_y\" in col]\n",
    "keep_cols = [col for col in drop_cols if \"_x\" in col]\n",
    "for col in keep_cols:\n",
    "    ps_rx_df[col.split(\"_\")[0]] = ps_rx_df[col]\n",
    "ps_rx_df.drop(drop_cols, axis=1, inplace=True)\n",
    "ps_rx_df.shape  # number of variables decreased to 715"
   ]
  },
  {
   "cell_type": "code",
   "execution_count": null,
   "metadata": {},
   "outputs": [],
   "source": [
    "# DEAD_DATE is used to classify our patients as DEAD or DISMISSED\n",
    "final_result = []\n",
    "for ddate in ps_rx_df.DEAD_DATE.tolist():\n",
    "    if str(ddate) == \"nan\":\n",
    "        final_result.append(0)\n",
    "    else:\n",
    "        final_result.append(1)\n",
    "assert len(final_result) == ps_rx_df.shape[0]\n",
    "ps_rx_df[\"FINAL_OUTCOME\"] = final_result\n",
    "ps_rx_df.head()"
   ]
  },
  {
   "cell_type": "code",
   "execution_count": null,
   "metadata": {},
   "outputs": [],
   "source": [
    "# continue with the final variable cleaning procedure\n",
    "drop_cols = [\n",
    "    \"DEAD_CAUSE-0\",\n",
    "    \"DEAD_CAUSE-1\",\n",
    "    \"DEAD_CAUSE-2\",\n",
    "    \"DEAD_CAUSE-3\",\n",
    "    \"DEAD_CAUSE-4\"\n",
    "]\n",
    "ps_rx_df.drop(drop_cols, axis=1, inplace=True)"
   ]
  },
  {
   "cell_type": "markdown",
   "metadata": {},
   "source": [
    "#### Plotting some stats on our data"
   ]
  },
  {
   "cell_type": "code",
   "execution_count": null,
   "metadata": {},
   "outputs": [],
   "source": [
    "# explore the outcomes\n",
    "data = {\n",
    "    \"Dead\":ps_rx_df[ps_rx_df.FINAL_OUTCOME == 1].shape[0], \n",
    "    \"Alive\":ps_rx_df[ps_rx_df.FINAL_OUTCOME == 0].shape[0]\n",
    "}\n",
    "outcome = list(data.keys())\n",
    "values = list(data.values())\n",
    "f,ax = plt.subplots(1,1,figsize = (10, 5))\n",
    "plt.bar(outcome, values, color = \"#104B8E\", width = 0.4)\n",
    "plt.xlabel(\"Final outcome\", size=16)\n",
    "plt.ylabel(\"Number of patients\", size=16)\n",
    "ax.tick_params(labelsize=14)\n",
    "plt.show()"
   ]
  },
  {
   "cell_type": "code",
   "execution_count": null,
   "metadata": {},
   "outputs": [],
   "source": []
  }
 ],
 "metadata": {
  "kernelspec": {
   "display_name": "Python 3",
   "language": "python",
   "name": "python3"
  },
  "language_info": {
   "codemirror_mode": {
    "name": "ipython",
    "version": 3
   },
   "file_extension": ".py",
   "mimetype": "text/x-python",
   "name": "python",
   "nbconvert_exporter": "python",
   "pygments_lexer": "ipython3",
   "version": "3.7.3"
  }
 },
 "nbformat": 4,
 "nbformat_minor": 2
}
