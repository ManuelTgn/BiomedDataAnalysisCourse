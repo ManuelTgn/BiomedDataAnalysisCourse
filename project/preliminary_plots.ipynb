{
 "cells": [
  {
   "cell_type": "markdown",
   "metadata": {},
   "source": [
    "# Plot data statistics for presentation"
   ]
  },
  {
   "cell_type": "code",
   "execution_count": null,
   "metadata": {},
   "outputs": [],
   "source": [
    "from matplotlib import ticker\n",
    "from typing import Any\n",
    "\n",
    "import matplotlib.pyplot as plt\n",
    "import seaborn as sns\n",
    "import pandas as pd\n",
    "import numpy as np\n",
    "\n",
    "import sys\n",
    "import os"
   ]
  },
  {
   "cell_type": "markdown",
   "metadata": {},
   "source": [
    "### Define data paths"
   ]
  },
  {
   "cell_type": "code",
   "execution_count": null,
   "metadata": {},
   "outputs": [],
   "source": [
    "data_path = \"/Users/manuel/Desktop/BiomedDataAnalysisCourse/project/data/\"\n",
    "# filled some missing values and corrected mistakes\n",
    "ps_rx_fname = os.path.join(data_path, \"merged_data_processed_corrected.csv\")"
   ]
  },
  {
   "cell_type": "markdown",
   "metadata": {},
   "source": [
    "### Define functions used throughout the analysis"
   ]
  },
  {
   "cell_type": "code",
   "execution_count": null,
   "metadata": {},
   "outputs": [],
   "source": [
    "def compute_age(birth_year: int, visit_year: int) -> int:\n",
    "    assert isinstance(birth_year, int)\n",
    "    assert isinstance(visit_year, int)\n",
    "    assert birth_year < visit_year\n",
    "    age = visit_year - birth_year\n",
    "    return age"
   ]
  },
  {
   "cell_type": "code",
   "execution_count": null,
   "metadata": {},
   "outputs": [],
   "source": [
    "def assign_age_group(age: int) -> int:\n",
    "    assert isinstance(age, int)\n",
    "    assert age > 0  # unlikely setting\n",
    "    if age <= 40: \n",
    "        return 0\n",
    "    elif age > 40 and age <= 55:\n",
    "        return 1\n",
    "    elif age > 55 and age <= 70:\n",
    "        return 2\n",
    "    elif age > 70 and age <= 85:\n",
    "        return 3\n",
    "    else:  # age > 85\n",
    "        return 4"
   ]
  },
  {
   "cell_type": "code",
   "execution_count": null,
   "metadata": {},
   "outputs": [],
   "source": [
    "def encode_o2_therapies(therapy: str) -> int:\n",
    "    assert isinstance(therapy, str)\n",
    "    assert str(therapy) != \"nan\"  # remove NaN values\n",
    "    if therapy == \"CPAP/NIV\":\n",
    "        return 0\n",
    "    elif therapy == \"IOT\":\n",
    "        return 1\n",
    "    elif therapy == \"M. Venturi\":\n",
    "        return 2\n",
    "    elif therapy == \"M. reservoir\":\n",
    "        return 3\n",
    "    elif therapy == \"M. semplice\":\n",
    "        return 4\n",
    "    elif therapy == \"Nasocannule\":\n",
    "        return 5\n",
    "    elif therapy == \"No (aria ambiente)\":\n",
    "        return 6\n",
    "    else:\n",
    "        raise ValueError(f\"Forbidden therapy value ({therapy})\")"
   ]
  },
  {
   "cell_type": "code",
   "execution_count": null,
   "metadata": {},
   "outputs": [],
   "source": [
    "def encode_smoke(smoke: str) -> int:\n",
    "    assert isinstance(smoke, str)\n",
    "    assert str(smoke) != \"nan\"  # remove NaN values\n",
    "    if smoke == \"Attivo\":\n",
    "        return 0\n",
    "    elif smoke == \"Ex\":\n",
    "        return 1\n",
    "    elif smoke == \"Mai\":\n",
    "        return 2\n",
    "    elif smoke == \"Non noto\":\n",
    "        return 3\n",
    "    else:\n",
    "        raise ValueError(f\"Forbidden smoke history value ({smoke})\")"
   ]
  },
  {
   "cell_type": "code",
   "execution_count": null,
   "metadata": {},
   "outputs": [],
   "source": [
    "def encode_alcohol(alcohol: str) -> int: \n",
    "    assert isinstance(alcohol, str)\n",
    "    assert str(alcohol) != \"nan\"\n",
    "    if \"Frequente\" in alcohol:\n",
    "        return 0\n",
    "    elif alcohol == \"Non consuma alcolici\":\n",
    "        return 1\n",
    "    elif alcohol == \"Non noto\":\n",
    "        return 2\n",
    "    elif alcohol == \"Quotidiano\":\n",
    "        return 3\n",
    "    elif alcohol == \"Saltuario (qualche volta in un mese)\":\n",
    "        return 4\n",
    "    else:\n",
    "        raise ValueError(f\"Forbidden alchol history value ({alcohol})\")"
   ]
  },
  {
   "cell_type": "markdown",
   "metadata": {},
   "source": [
    "### Compute plots on data statistics"
   ]
  },
  {
   "cell_type": "markdown",
   "metadata": {},
   "source": [
    "In the current notebook we will plot some statistics regarding the COVID-19 dataset used throughout the analysis.<br>\n",
    "For consistency reason with the outcome of final analysis, the statistics are computed on the final dataset (some `NaN` were filled and some mistakes were corrected), used during the the final analysis."
   ]
  },
  {
   "cell_type": "code",
   "execution_count": null,
   "metadata": {},
   "outputs": [],
   "source": [
    "ps_rx_df = pd.read_csv(ps_rx_fname, delimiter=\";\", decimal=\",\")\n",
    "ps_rx_df.head()"
   ]
  },
  {
   "cell_type": "markdown",
   "metadata": {},
   "source": [
    "Let's begin by exploring the number of visits available by gender and the visits outcome by gender."
   ]
  },
  {
   "cell_type": "markdown",
   "metadata": {},
   "source": [
    "#### Visits and outcome by gender"
   ]
  },
  {
   "cell_type": "code",
   "execution_count": null,
   "metadata": {},
   "outputs": [],
   "source": [
    "# explore number of visits by gender\n",
    "data = {\n",
    "    \"Male\":ps_rx_df[ps_rx_df.GENDER == \"M\"].shape[0], \n",
    "    \"Female\":ps_rx_df[ps_rx_df.GENDER == \"F\"].shape[0]\n",
    "}\n",
    "values = list(data.values())\n",
    "gender = list(data.keys())\n",
    "f, ax = plt.subplots(1, 1, figsize=(15,10))\n",
    "ax.bar(gender, values, color = \"#104B8E\", width=.4)\n",
    "ax.set_xlabel(\"Gender\", size=16)\n",
    "ax.set_ylabel(\"Number of visits\", size=16)\n",
    "ax.tick_params(labelsize=14)\n",
    "ax.set_title(\"ER visits by gender\", size=18)\n",
    "plt.show()  # more males than females in our dataset\n"
   ]
  },
  {
   "cell_type": "code",
   "execution_count": null,
   "metadata": {},
   "outputs": [],
   "source": [
    "# explore visits outcome by gender\n",
    "data = {\n",
    "    \"Dead\":ps_rx_df[ps_rx_df.DEATH == 1].shape[0],\n",
    "    \"Alive\":ps_rx_df[ps_rx_df.DEATH == 0].shape[0]\n",
    "}\n",
    "values = list(data.values())\n",
    "outcome = list(data.keys())\n",
    "f, (ax1, ax2) = plt.subplots(1, 2, figsize=(15,10))\n",
    "ax1.bar(outcome, values, color=\"#104B8E\", width=.4)\n",
    "ax1.set_xlabel(\"Outcome\", size=16)\n",
    "ax1.set_ylabel(\"Number of visits\", size=16)\n",
    "ax1.tick_params(labelsize=14)\n",
    "ax1.set_title(\"ER visits outcome\", size=18)\n",
    "colors = [\"#104B8E\", \"#DC661A\"]\n",
    "data = {\n",
    "    \"Dead\":[\n",
    "        ps_rx_df[(ps_rx_df.DEATH == 1) & (ps_rx_df.GENDER == \"M\")].shape[0],\n",
    "        ps_rx_df[(ps_rx_df.DEATH == 1) & (ps_rx_df.GENDER == \"F\")].shape[0]\n",
    "    ],\n",
    "    \"Alive\":[\n",
    "        ps_rx_df[(ps_rx_df.DEATH == 0) & (ps_rx_df.GENDER == \"M\")].shape[0],\n",
    "        ps_rx_df[(ps_rx_df.DEATH == 0) & (ps_rx_df.GENDER == \"F\")].shape[0]\n",
    "    ]\n",
    "}\n",
    "x = np.arange(2)\n",
    "width = .2\n",
    "ax2.bar(\n",
    "    x - width / 2, \n",
    "    [data[\"Dead\"][0], data[\"Alive\"][0]], \n",
    "    width, \n",
    "    label=\"Males\", \n",
    "    color=colors[0]\n",
    ")\n",
    "ax2.bar(\n",
    "    x + width / 2, \n",
    "    [data[\"Dead\"][1], data[\"Alive\"][1]], \n",
    "    width, \n",
    "    label=\"Females\", \n",
    "    color=colors[1]\n",
    ")\n",
    "ax2.set_xlabel(\"Outcome\", size=16)\n",
    "ax2.set_ylabel(\"Number of visits\", size=16)\n",
    "ax2.tick_params(labelsize=14)\n",
    "ax2.set_xticks(x)\n",
    "ax2.set_xticklabels(outcome)\n",
    "ax2.legend([\"Male\", \"Female\"], prop={\"size\":18})\n",
    "ax2.set_title(\"ER visits outcome by gender\", size=18)\n",
    "plt.show()  # most of the patients survived and males seem to have higher mortality "
   ]
  },
  {
   "cell_type": "markdown",
   "metadata": {},
   "source": [
    "Check if there are changes in the percentage of visits with `Alive` or `Dead` outcome between male or female subjects."
   ]
  },
  {
   "cell_type": "code",
   "execution_count": null,
   "metadata": {},
   "outputs": [],
   "source": [
    "alive_pct = (\n",
    "    data[\"Alive\"][0] / (data[\"Alive\"][0] + data[\"Dead\"][0]),\n",
    "    data[\"Alive\"][1] / (data[\"Alive\"][1] + data[\"Dead\"][1]) \n",
    ")\n",
    "dead_pct = (\n",
    "    data[\"Dead\"][0] / (data[\"Alive\"][0] + data[\"Dead\"][0]),\n",
    "    data[\"Dead\"][1] / (data[\"Alive\"][1] + data[\"Dead\"][1]) \n",
    ")\n",
    "print(f\"Male subjects:\\nDead\\tAlive\\n%.2f\\t%.2f\\n\" % (dead_pct[0], alive_pct[0]))\n",
    "print(f\"Female subjects:\\nDead\\tAlive\\n%.2f\\t%.2f\" % (dead_pct[1], alive_pct[1]))  "
   ]
  },
  {
   "cell_type": "markdown",
   "metadata": {},
   "source": [
    "Interestingly the percentages are equal. Therefore, there is no bias in the visit outcome introduced by subjects' gender."
   ]
  },
  {
   "cell_type": "markdown",
   "metadata": {},
   "source": [
    "#### Visits and outcome by age "
   ]
  },
  {
   "cell_type": "code",
   "execution_count": null,
   "metadata": {},
   "outputs": [],
   "source": [
    "# compute subjects' age from visit and birth date\n",
    "ps_rx_df[\"AGE\"] = ps_rx_df.apply(lambda x : compute_age(int(x[1]), int(x[-1].split(\"/\")[-1])), axis=1)\n",
    "ps_rx_df.head()"
   ]
  },
  {
   "cell_type": "markdown",
   "metadata": {},
   "source": [
    "Subjects' age ranges from 23 to 104. It would be useful to group ages in 5 chunks:\n",
    "- $<$ 40\n",
    "- 41 - 55\n",
    "- 56 - 70\n",
    "- 71 - 85\n",
    "- $>$ 85\n",
    "\n",
    "Let's create these 5 age groups."
   ]
  },
  {
   "cell_type": "code",
   "execution_count": null,
   "metadata": {},
   "outputs": [],
   "source": [
    "ps_rx_df[\"AGE_GROUP\"] = ps_rx_df.apply(lambda x : assign_age_group(x[-1]), axis=1)\n",
    "ps_rx_df.head()"
   ]
  },
  {
   "cell_type": "code",
   "execution_count": null,
   "metadata": {},
   "outputs": [],
   "source": [
    "# explore the number of visits by age group\n",
    "data = {\n",
    "    \"< 40\":ps_rx_df[ps_rx_df.AGE_GROUP == 0].shape[0],\n",
    "    \"41 - 55\":ps_rx_df[ps_rx_df.AGE_GROUP == 1].shape[0],\n",
    "    \"56 - 70\":ps_rx_df[ps_rx_df.AGE_GROUP == 2].shape[0],\n",
    "    \"71 - 85\":ps_rx_df[ps_rx_df.AGE_GROUP == 3].shape[0],\n",
    "    \"> 85\":ps_rx_df[ps_rx_df.AGE_GROUP == 4].shape[0]\n",
    "}\n",
    "values = list(data.values())\n",
    "age_group = list(data.keys())\n",
    "f, ax = plt.subplots(1, 1, figsize=(15,10))\n",
    "ax.bar(age_group, values, color = \"#104B8E\", width=.4)\n",
    "ax.set_xlabel(\"Age group\", size=16)\n",
    "ax.set_ylabel(\"Number of visits\", size=16)\n",
    "ax.tick_params(labelsize=14)\n",
    "ax.set_title(\"ER visits by age group\", size=18)\n",
    "plt.show()  # most of the visits interest subjects in their 70s-80s"
   ]
  },
  {
   "cell_type": "code",
   "execution_count": null,
   "metadata": {},
   "outputs": [],
   "source": [
    "# explore visits outcome by age group\n",
    "data = {\n",
    "    \"Dead\":{\n",
    "        \"< 40\":ps_rx_df[(ps_rx_df.DEATH == 1) & (ps_rx_df.AGE_GROUP == 0)].shape[0],\n",
    "        \"41 - 55\":ps_rx_df[(ps_rx_df.DEATH == 1) & (ps_rx_df.AGE_GROUP == 1)].shape[0],\n",
    "        \"56 - 70\":ps_rx_df[(ps_rx_df.DEATH == 1) & (ps_rx_df.AGE_GROUP == 2)].shape[0],\n",
    "        \"71 - 85\":ps_rx_df[(ps_rx_df.DEATH == 1) & (ps_rx_df.AGE_GROUP == 3)].shape[0],\n",
    "        \"> 85\":ps_rx_df[(ps_rx_df.DEATH == 1) & (ps_rx_df.AGE_GROUP == 4)].shape[0]\n",
    "    },\n",
    "    \"Alive\":{\n",
    "        \"< 40\":ps_rx_df[(ps_rx_df.DEATH == 0) & (ps_rx_df.AGE_GROUP == 0)].shape[0],\n",
    "        \"41 - 55\":ps_rx_df[(ps_rx_df.DEATH == 0) & (ps_rx_df.AGE_GROUP == 1)].shape[0],\n",
    "        \"56 - 70\":ps_rx_df[(ps_rx_df.DEATH == 0) & (ps_rx_df.AGE_GROUP == 2)].shape[0],\n",
    "        \"71 - 85\":ps_rx_df[(ps_rx_df.DEATH == 0) & (ps_rx_df.AGE_GROUP == 3)].shape[0],\n",
    "        \"> 85\":ps_rx_df[(ps_rx_df.DEATH == 0) & (ps_rx_df.AGE_GROUP == 4)].shape[0]\n",
    "    }\n",
    "}\n",
    "data = pd.DataFrame(data).T\n",
    "data = data[[\"< 40\", \"41 - 55\", \"56 - 70\", \"71 - 85\", \"> 85\"]]\n",
    "data.plot(kind=\"bar\", figsize=(15,10))\n",
    "plt.xlabel(\"Age group\", size=16)\n",
    "plt.ylabel(\"Number of visits\", size=16)\n",
    "plt.title(\"Visits outcome by age group\", size=18)\n",
    "plt.show()\n"
   ]
  },
  {
   "cell_type": "markdown",
   "metadata": {},
   "source": [
    "#### Visits outcome and O2 therapies"
   ]
  },
  {
   "cell_type": "markdown",
   "metadata": {},
   "source": [
    "Let's now explore if there exists some correlation between the visit outcome and the O2 therapy used to treat the patients during the COVID-19 infection.\n",
    "\n",
    "There are 7 different therapy values in the analyzed dataset:\n",
    "- CPAP/NIV\n",
    "- IOT\n",
    "- M. Venturi\n",
    "- M.reservoir\n",
    "- M. semplice\n",
    "- Nasocannule\n",
    "- No (environmental air)"
   ]
  },
  {
   "cell_type": "code",
   "execution_count": null,
   "metadata": {},
   "outputs": [],
   "source": [
    "# remove rows with NaN values on O2 therapies column\n",
    "ps_rx_df_o2 = ps_rx_df[ps_rx_df[\"FIELDSET_EVOLUTION-O2\"].notna()]\n",
    "# encode O2 therapies\n",
    "ps_rx_df_o2[\"O2_THERAPY\"] = ps_rx_df_o2.apply(\n",
    "    lambda x : encode_o2_therapies(\n",
    "        x[\n",
    "            int(\n",
    "                np.where(\n",
    "                    np.array(ps_rx_df_o2.columns.tolist()) == \"FIELDSET_EVOLUTION-O2\"\n",
    "                )[0]\n",
    "            )\n",
    "        ]\n",
    "    ), axis=1\n",
    ")\n",
    "ps_rx_df_o2.head()"
   ]
  },
  {
   "cell_type": "code",
   "execution_count": null,
   "metadata": {},
   "outputs": [],
   "source": [
    "# explore number of visits by O2 therapy\n",
    "data = {\n",
    "    \"CPAP/NIV\": ps_rx_df_o2[ps_rx_df_o2.O2_THERAPY == 0].shape[0],\n",
    "    \"IOT\": ps_rx_df_o2[ps_rx_df_o2.O2_THERAPY == 1].shape[0],\n",
    "    \"M. Venturi\": ps_rx_df_o2[ps_rx_df_o2.O2_THERAPY == 2].shape[0],\n",
    "    \"M. reservoir\": ps_rx_df_o2[ps_rx_df_o2.O2_THERAPY == 3].shape[0],\n",
    "    \"M. semplice\": ps_rx_df_o2[ps_rx_df_o2.O2_THERAPY == 4].shape[0],\n",
    "    \"Nasocannule\": ps_rx_df_o2[ps_rx_df_o2.O2_THERAPY == 5].shape[0],\n",
    "    \"No (aria ambiente)\": ps_rx_df_o2[ps_rx_df_o2.O2_THERAPY == 6].shape[0]\n",
    "}\n",
    "values = list(data.values())\n",
    "therapies = list(data.keys())\n",
    "f, ax = plt.subplots(1, 1, figsize=(15,10))\n",
    "ax.bar(therapies, values, color = \"#104B8E\", width=.4)\n",
    "ax.set_xlabel(\"Therapy\", size=16)\n",
    "ax.set_ylabel(\"Number of visits\", size=16)\n",
    "ax.tick_params(labelsize=14)\n",
    "ax.set_title(\"ER visits by O2 therapy\", size=18)\n",
    "plt.show()  # M. reservoir seems to be the most used therapy"
   ]
  },
  {
   "cell_type": "code",
   "execution_count": null,
   "metadata": {},
   "outputs": [],
   "source": [
    "# explore visit outcome by O2 therapy\n",
    "data = {\n",
    "    \"Dead\":{\n",
    "        \"CPAP/NIV\": ps_rx_df_o2[\n",
    "            (ps_rx_df_o2.DEATH == 1) & (ps_rx_df_o2.O2_THERAPY == 0)\n",
    "        ].shape[0],\n",
    "        \"IOT\": ps_rx_df_o2[\n",
    "            (ps_rx_df_o2.DEATH == 1) & (ps_rx_df_o2.O2_THERAPY == 1)\n",
    "        ].shape[0],\n",
    "        \"M. Venturi\": ps_rx_df_o2[\n",
    "            (ps_rx_df_o2.DEATH == 1) & (ps_rx_df_o2.O2_THERAPY == 2)\n",
    "        ].shape[0],\n",
    "        \"M. reservoir\": ps_rx_df_o2[\n",
    "            (ps_rx_df_o2.DEATH == 1) & (ps_rx_df_o2.O2_THERAPY == 3)\n",
    "        ].shape[0],\n",
    "        \"M. semplice\": ps_rx_df_o2[\n",
    "            (ps_rx_df_o2.DEATH == 1) & (ps_rx_df_o2.O2_THERAPY == 4)\n",
    "        ].shape[0],\n",
    "        \"Nasocannule\": ps_rx_df_o2[\n",
    "            (ps_rx_df_o2.DEATH == 1) & (ps_rx_df_o2.O2_THERAPY == 5)\n",
    "        ].shape[0],\n",
    "        \"No (aria ambiente)\": ps_rx_df_o2[\n",
    "            (ps_rx_df_o2.DEATH == 1) & (ps_rx_df_o2.O2_THERAPY == 6)\n",
    "        ].shape[0]\n",
    "    },\n",
    "    \"Alive\":{\n",
    "        \"CPAP/NIV\": ps_rx_df_o2[\n",
    "            (ps_rx_df_o2.DEATH == 0) & (ps_rx_df_o2.O2_THERAPY == 0)\n",
    "        ].shape[0],\n",
    "        \"IOT\": ps_rx_df_o2[\n",
    "            (ps_rx_df_o2.DEATH == 0) & (ps_rx_df_o2.O2_THERAPY == 1)\n",
    "        ].shape[0],\n",
    "        \"M. Venturi\": ps_rx_df_o2[\n",
    "            (ps_rx_df_o2.DEATH == 0) & (ps_rx_df_o2.O2_THERAPY == 2)\n",
    "        ].shape[0],\n",
    "        \"M. reservoir\": ps_rx_df_o2[\n",
    "            (ps_rx_df_o2.DEATH == 0) & (ps_rx_df_o2.O2_THERAPY == 3)\n",
    "        ].shape[0],\n",
    "        \"M. semplice\": ps_rx_df_o2[\n",
    "            (ps_rx_df_o2.DEATH == 0) & (ps_rx_df_o2.O2_THERAPY == 4)\n",
    "        ].shape[0],\n",
    "        \"Nasocannule\": ps_rx_df_o2[\n",
    "            (ps_rx_df_o2.DEATH == 0) & (ps_rx_df_o2.O2_THERAPY == 5)\n",
    "        ].shape[0],\n",
    "        \"No (aria ambiente)\": ps_rx_df_o2[\n",
    "            (ps_rx_df_o2.DEATH == 0) & (ps_rx_df_o2.O2_THERAPY == 6)\n",
    "        ].shape[0]\n",
    "    }\n",
    "}\n",
    "data = pd.DataFrame(data).T\n",
    "data = data[\n",
    "    [\n",
    "        \"No (aria ambiente)\", \n",
    "        \"CPAP/NIV\", \n",
    "        \"M. Venturi\", \n",
    "        \"M. reservoir\", \n",
    "        \"M. semplice\", \n",
    "        \"Nasocannule\"\n",
    "    ]\n",
    "]\n",
    "data.plot(kind=\"bar\", figsize=(15,10))\n",
    "plt.xlabel(\"O2 therapy\", size=16)\n",
    "plt.ylabel(\"Number of visits\", size=16)\n",
    "plt.title(\"Visits outcome by O2 therapy\", size=18)\n",
    "plt.show()\n"
   ]
  },
  {
   "cell_type": "markdown",
   "metadata": {},
   "source": [
    "#### Visit outcome by subjects' smoke and alcohol history"
   ]
  },
  {
   "cell_type": "code",
   "execution_count": null,
   "metadata": {},
   "outputs": [],
   "source": [
    "# encode subjects' smoke history\n",
    "ps_rx_df_smoke = ps_rx_df[ps_rx_df[\"FIELDSET_PHYSIOLOGICAL-SMOKE\"].notna()]\n",
    "ps_rx_df_smoke[\"SMOKE\"] = ps_rx_df_smoke.apply(\n",
    "    lambda x : encode_smoke(\n",
    "        x[\n",
    "            int(\n",
    "            np.where(\n",
    "                np.array(ps_rx_df_smoke.columns) == \"FIELDSET_PHYSIOLOGICAL-SMOKE\"\n",
    "            )[0]\n",
    "        )\n",
    "        ]\n",
    "    ), axis=1\n",
    ")\n",
    "ps_rx_df_smoke.head()\n"
   ]
  },
  {
   "cell_type": "code",
   "execution_count": null,
   "metadata": {},
   "outputs": [],
   "source": [
    "# explore the number of visits by subjects' smoke history\n",
    "data = {\n",
    "    \"Active\": ps_rx_df_smoke[ps_rx_df_smoke[\"SMOKE\"] == 0].shape[0],\n",
    "    \"Past\": ps_rx_df_smoke[ps_rx_df_smoke[\"SMOKE\"] == 1].shape[0],\n",
    "    \"Never\": ps_rx_df_smoke[ps_rx_df_smoke[\"SMOKE\"] == 2].shape[0],\n",
    "    \"Unknown\": ps_rx_df_smoke[ps_rx_df_smoke[\"SMOKE\"] == 3].shape[0]\n",
    "}\n",
    "values = list(data.values())\n",
    "smoke = list(data.keys())\n",
    "f, ax = plt.subplots(1, 1, figsize=(15,10))\n",
    "ax.bar(smoke, values, color = \"#104B8E\", width=.4)\n",
    "ax.set_xlabel(\"Smoke history\", size=16)\n",
    "ax.set_ylabel(\"Number of visits\", size=16)\n",
    "ax.tick_params(labelsize=14)\n",
    "ax.set_title(\"ER visits by subjects' smoke history\", size=18)\n",
    "plt.show()  # most of subjects have an unknown smoking history"
   ]
  },
  {
   "cell_type": "code",
   "execution_count": null,
   "metadata": {},
   "outputs": [],
   "source": [
    "# explore visit outcome by smoking history\n",
    "data = {\n",
    "    \"Dead\": {\n",
    "        \"Active\": ps_rx_df_smoke[\n",
    "            (ps_rx_df_smoke.DEATH == 1) & (ps_rx_df_smoke.SMOKE == 0)\n",
    "        ].shape[0],\n",
    "        \"Past\": ps_rx_df_smoke[\n",
    "            (ps_rx_df_smoke.DEATH == 1) & (ps_rx_df_smoke.SMOKE == 1)\n",
    "        ].shape[0],\n",
    "        \"Never\": ps_rx_df_smoke[\n",
    "            (ps_rx_df_smoke.DEATH == 1) & (ps_rx_df_smoke.SMOKE == 2)\n",
    "        ].shape[0],\n",
    "        \"Unknown\": ps_rx_df_smoke[\n",
    "            (ps_rx_df_smoke.DEATH == 1) & (ps_rx_df_smoke.SMOKE == 3)\n",
    "        ].shape[0]\n",
    "    },\n",
    "    \"Alive\": {\n",
    "        \"Active\": ps_rx_df_smoke[\n",
    "            (ps_rx_df_smoke.DEATH == 0) & (ps_rx_df_smoke.SMOKE == 0)\n",
    "        ].shape[0],\n",
    "        \"Past\": ps_rx_df_smoke[\n",
    "            (ps_rx_df_smoke.DEATH == 0) & (ps_rx_df_smoke.SMOKE == 1)\n",
    "        ].shape[0],\n",
    "        \"Never\": ps_rx_df_smoke[\n",
    "            (ps_rx_df_smoke.DEATH == 0) & (ps_rx_df_smoke.SMOKE == 2)\n",
    "        ].shape[0],\n",
    "        \"Unknown\": ps_rx_df_smoke[\n",
    "            (ps_rx_df_smoke.DEATH == 0) & (ps_rx_df_smoke.SMOKE == 3)\n",
    "        ].shape[0],\n",
    "    }\n",
    "}\n",
    "data = pd.DataFrame(data).T\n",
    "data = data[[\"Never\", \"Past\", \"Active\", \"Unknown\"]]\n",
    "data.plot(kind=\"bar\", figsize=(15,10))\n",
    "plt.xlabel(\"Smoke history\", size=16)\n",
    "plt.ylabel(\"Number of visits\", size=16)\n",
    "plt.title(\"Visits outcome by subjects' smoke history\", size=18)\n",
    "plt.show()\n"
   ]
  },
  {
   "cell_type": "code",
   "execution_count": null,
   "metadata": {},
   "outputs": [],
   "source": [
    "# encode subjects' alcohol history\n",
    "ps_rx_df_alcohol = ps_rx_df[ps_rx_df[\"FIELDSET_PHYSIOLOGICAL-ALCOHOL\"].notna()]\n",
    "ps_rx_df_alcohol[\"ALCOHOL\"] = ps_rx_df_alcohol.apply(\n",
    "    lambda x : encode_alcohol(\n",
    "        x[\n",
    "            int(\n",
    "            np.where(\n",
    "                np.array(ps_rx_df_alcohol.columns) == \"FIELDSET_PHYSIOLOGICAL-ALCOHOL\"\n",
    "            )[0]\n",
    "        )\n",
    "        ]\n",
    "    ), axis=1\n",
    ")\n",
    "ps_rx_df_alcohol.head()"
   ]
  },
  {
   "cell_type": "code",
   "execution_count": null,
   "metadata": {},
   "outputs": [],
   "source": [
    "# explore the number of visits by subjects' smoke history\n",
    "data = {\n",
    "    \"Frequent\": ps_rx_df_alcohol[ps_rx_df_alcohol[\"ALCOHOL\"] == 0].shape[0],\n",
    "    \"Never\": ps_rx_df_alcohol[ps_rx_df_alcohol[\"ALCOHOL\"] == 1].shape[0],\n",
    "    \"Unknown\": ps_rx_df_alcohol[ps_rx_df_alcohol[\"ALCOHOL\"] == 2].shape[0],\n",
    "    \"Daily\": ps_rx_df_alcohol[ps_rx_df_alcohol[\"ALCOHOL\"] == 3].shape[0],\n",
    "    \"Rare\": ps_rx_df_alcohol[ps_rx_df_alcohol[\"ALCOHOL\"] == 4].shape[0]\n",
    "}\n",
    "values = list(data.values())\n",
    "alcohol = list(data.keys())\n",
    "f, ax = plt.subplots(1, 1, figsize=(15,10))\n",
    "ax.bar(alcohol, values, color = \"#104B8E\", width=.4)\n",
    "ax.set_xlabel(\"Alcohol history\", size=16)\n",
    "ax.set_ylabel(\"Number of visits\", size=16)\n",
    "ax.tick_params(labelsize=14)\n",
    "ax.set_title(\"ER visits by subjects' alcohol history\", size=18)\n",
    "plt.show()  # most of subjects have an unknown alcohol history"
   ]
  },
  {
   "cell_type": "code",
   "execution_count": null,
   "metadata": {},
   "outputs": [],
   "source": [
    "# explore visit outcome by subjects' alcohol history\n",
    "data = {\n",
    "    \"Dead\": {\n",
    "        \"Frequent\": ps_rx_df_alcohol[\n",
    "            (ps_rx_df_alcohol.DEATH == 1) & (ps_rx_df_alcohol.ALCOHOL == 0)\n",
    "        ].shape[0],\n",
    "        \"Never\": ps_rx_df_alcohol[\n",
    "            (ps_rx_df_alcohol.DEATH == 1) & (ps_rx_df_alcohol.ALCOHOL == 1)\n",
    "        ].shape[0],\n",
    "        \"Unknown\": ps_rx_df_alcohol[\n",
    "            (ps_rx_df_alcohol.DEATH == 1) & (ps_rx_df_alcohol.ALCOHOL == 2)\n",
    "        ].shape[0],\n",
    "        \"Daily\": ps_rx_df_alcohol[\n",
    "            (ps_rx_df_alcohol.DEATH == 1) & (ps_rx_df_alcohol.ALCOHOL == 3)\n",
    "        ].shape[0],\n",
    "        \"Rare\": ps_rx_df_alcohol[\n",
    "            (ps_rx_df_alcohol.DEATH == 1) & (ps_rx_df_alcohol.ALCOHOL == 4)\n",
    "        ].shape[0]\n",
    "    },\n",
    "    \"Alive\": {\n",
    "        \"Frequent\": ps_rx_df_alcohol[\n",
    "            (ps_rx_df_alcohol.DEATH == 0) & (ps_rx_df_alcohol.ALCOHOL == 0)\n",
    "        ].shape[0],\n",
    "        \"Never\": ps_rx_df_alcohol[\n",
    "            (ps_rx_df_alcohol.DEATH == 0) & (ps_rx_df_alcohol.ALCOHOL == 1)\n",
    "        ].shape[0],\n",
    "        \"Unknown\": ps_rx_df_alcohol[\n",
    "            (ps_rx_df_alcohol.DEATH == 0) & (ps_rx_df_alcohol.ALCOHOL == 2)\n",
    "        ].shape[0],\n",
    "        \"Daily\": ps_rx_df_alcohol[\n",
    "            (ps_rx_df_alcohol.DEATH == 0) & (ps_rx_df_alcohol.ALCOHOL == 3)\n",
    "        ].shape[0],\n",
    "        \"Rare\": ps_rx_df_alcohol[\n",
    "            (ps_rx_df_alcohol.DEATH == 0) & (ps_rx_df_alcohol.ALCOHOL == 4)\n",
    "        ].shape[0]\n",
    "    }\n",
    "}\n",
    "data = pd.DataFrame(data).T\n",
    "data = data[[\"Never\", \"Rare\", \"Frequent\", \"Daily\", \"Unknown\"]]\n",
    "data.plot(kind=\"bar\", figsize=(15,10))\n",
    "plt.xlabel(\"Alcohol history\", size=16)\n",
    "plt.ylabel(\"Number of visits\", size=16)\n",
    "plt.title(\"Visits outcome by subjects' alcohol history\", size=18)\n",
    "plt.show()"
   ]
  },
  {
   "cell_type": "markdown",
   "metadata": {},
   "source": [
    "Both alcohol and smoke history do not seem to have any impact on visits outcome."
   ]
  },
  {
   "cell_type": "markdown",
   "metadata": {},
   "source": [
    "#### Visit outcomes and blood pressure"
   ]
  },
  {
   "cell_type": "markdown",
   "metadata": {},
   "source": [
    "Let's now finish our exploratory analysis by looking if there exists any difference between the blood pressures of dead and alive subjects."
   ]
  },
  {
   "cell_type": "code",
   "execution_count": null,
   "metadata": {},
   "outputs": [],
   "source": [
    "# systolic pressure\n",
    "ps_rx_df_sys = ps_rx_df[ps_rx_df[\"FIELDSET_PS-SYSTOLIC\"].notna()]\n",
    "f, ax = plt.subplots(1, 1, figsize=(15,10))\n",
    "sns.boxplot(data=ps_rx_df_sys, x=\"DEATH\", y=\"FIELDSET_PS-SYSTOLIC\", ax=ax)\n",
    "ax.set_xlabel(\"Visit outcome\", size=16)\n",
    "ax.set_ylabel(\"Systolic pressure\", size=16)\n",
    "ax.tick_params(labelsize=14)\n",
    "ax.set_xticklabels([\"Alive\", \"Dead\"])\n",
    "plt.show()  # dead subjects have higher variance in systolic pressure "
   ]
  },
  {
   "cell_type": "code",
   "execution_count": null,
   "metadata": {},
   "outputs": [],
   "source": [
    "# diastolic pressure\n",
    "ps_rx_df_dia = ps_rx_df[ps_rx_df[\"FIELDSET_PS-DIASTOLIC\"].notna()]\n",
    "f, ax = plt.subplots(1, 1, figsize=(15,10))\n",
    "sns.boxplot(\n",
    "    data=ps_rx_df_dia[ps_rx_df_dia[\"FIELDSET_PS-DIASTOLIC\"] < 600], \n",
    "    x=\"DEATH\", \n",
    "    y=\"FIELDSET_PS-DIASTOLIC\", \n",
    "    ax=ax\n",
    ")\n",
    "ax.set_xlabel(\"Visit outcome\", size=16)\n",
    "ax.set_ylabel(\"Diastolic pressure\", size=16)\n",
    "ax.tick_params(labelsize=14)\n",
    "ax.set_xticklabels([\"Alive\", \"Dead\"])\n",
    "plt.show()  # dead subjects have higher variance in diastolic pressure "
   ]
  },
  {
   "cell_type": "code",
   "execution_count": null,
   "metadata": {},
   "outputs": [],
   "source": []
  }
 ],
 "metadata": {
  "interpreter": {
   "hash": "8f5a176552fc0f23c8f04279340cb4c0ac62022f9ffb83054f20d62859be286b"
  },
  "kernelspec": {
   "display_name": "Python 3.7.3",
   "language": "python",
   "name": "python3"
  },
  "language_info": {
   "codemirror_mode": {
    "name": "ipython",
    "version": 3
   },
   "file_extension": ".py",
   "mimetype": "text/x-python",
   "name": "python",
   "nbconvert_exporter": "python",
   "pygments_lexer": "ipython3",
   "version": "3.7.3"
  },
  "orig_nbformat": 4
 },
 "nbformat": 4,
 "nbformat_minor": 2
}
